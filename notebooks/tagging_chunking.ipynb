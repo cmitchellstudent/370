{
 "cells": [
  {
   "cell_type": "code",
   "execution_count": 1,
   "id": "initial_id",
   "metadata": {
    "collapsed": true,
    "ExecuteTime": {
     "end_time": "2024-03-19T16:19:28.099753Z",
     "start_time": "2024-03-19T16:19:26.309747600Z"
    }
   },
   "outputs": [],
   "source": [
    "# IMPORTS\n",
    "# from pathlib import Path\n",
    "import re\n",
    "import nltk\n",
    "from sklearn.feature_extraction.text import CountVectorizer\n",
    "import pandas as pd\n",
    "\n",
    "lemmatizer = nltk.stem.WordNetLemmatizer()\n",
    "stoplist = nltk.corpus.stopwords.words('english')\n",
    "\n",
    "# MPL block\n",
    "# import matplotlib.pyplot as plt\n",
    "# plt.rcParams['figure.dpi'] = 300\n",
    "# plt.rcParams[\"figure.figsize\"] = (10,5)"
   ]
  },
  {
   "cell_type": "code",
   "outputs": [],
   "source": [
    "# Please note that the above code is quite easy to read:\n",
    "# but it actually loops through the text three times,\n",
    "# once for each line. We can do better:\n",
    "\n",
    "def tknize (a_string):\n",
    "    # Handle all the string operations at one time\n",
    "    clean = re.sub('[^a-zA-Z \\.]', ' ', a_string).lower()\n",
    "    # Create the list of sub-strings (tokens) and return it\n",
    "    return nltk.tokenize.word_tokenize(clean)\n",
    "    "
   ],
   "metadata": {
    "collapsed": false
   },
   "id": "8e2abedf53cc95ef"
  },
  {
   "cell_type": "code",
   "outputs": [
    {
     "data": {
      "text/plain": "'5/10 Bruh why you so loud god damn     '"
     },
     "execution_count": 8,
     "metadata": {},
     "output_type": "execute_result"
    }
   ],
   "source": [
    "df = pd.read_csv('C:\\\\Users\\Connor\\Desktop\\\\370\\letterboxdCorpus\\\\all.csv')\n",
    "corpus = df.to_dict()\n",
    "corpus['reviews'][170]\n"
   ],
   "metadata": {
    "collapsed": false,
    "ExecuteTime": {
     "end_time": "2024-03-19T16:30:20.423215700Z",
     "start_time": "2024-03-19T16:30:20.299861500Z"
    }
   },
   "id": "73dcd1ef1802cca7",
   "execution_count": 8
  },
  {
   "cell_type": "code",
   "outputs": [],
   "source": [
    "string = \"\"\n",
    "reviews = df.reviews.tolist()\n",
    "for review in reviews:\n",
    "    string += review[5:] + \" \""
   ],
   "metadata": {
    "collapsed": false,
    "ExecuteTime": {
     "end_time": "2024-03-19T16:33:16.308958300Z",
     "start_time": "2024-03-19T16:32:28.957951500Z"
    }
   },
   "id": "64553917f4a60d9b",
   "execution_count": 9
  },
  {
   "cell_type": "code",
   "outputs": [],
   "source": [
    "tkns = nltk.tokenize.word_tokenize(string)"
   ],
   "metadata": {
    "collapsed": false,
    "ExecuteTime": {
     "end_time": "2024-03-19T16:33:46.612707300Z",
     "start_time": "2024-03-19T16:33:42.249714800Z"
    }
   },
   "id": "b741e5d0a7d172ac",
   "execution_count": 10
  },
  {
   "cell_type": "code",
   "outputs": [
    {
     "data": {
      "text/plain": "[('cena', 'NN'),\n (\"'s\", 'POS'),\n ('absolutely', 'RB'),\n ('delicious', 'JJ'),\n ('looking', 'VBG'),\n ('biceps', 'NNS'),\n ('Not', 'RB'),\n ('fast', 'RB'),\n ('enough', 'RB'),\n ('!', '.'),\n ('On', 'IN'),\n ('march', 'NN'),\n ('24th', 'CD'),\n ('2023', 'CD'),\n ('Kanye', 'NNP'),\n ('West', 'NNP'),\n ('said', 'VBD'),\n ('he', 'PRP'),\n ('is', 'VBZ'),\n ('no', 'RB')]"
     },
     "execution_count": 13,
     "metadata": {},
     "output_type": "execute_result"
    }
   ],
   "source": [
    "posTagged = nltk.pos_tag(tkns)\n",
    "posTagged[15:35]"
   ],
   "metadata": {
    "collapsed": false,
    "ExecuteTime": {
     "end_time": "2024-03-19T16:35:37.951578700Z",
     "start_time": "2024-03-19T16:35:11.866776100Z"
    }
   },
   "id": "efad062287cd1039",
   "execution_count": 13
  },
  {
   "cell_type": "code",
   "outputs": [
    {
     "name": "stdout",
     "output_type": "stream",
     "text": [
      "drunk\n",
      "delicious\n",
      "semitic\n",
      "old\n",
      "gon\n",
      "😭\n",
      "terrifying\n",
      "scary\n",
      "happy\n",
      "solar\n",
      "overall\n",
      "good\n",
      "axel\n",
      "hard\n",
      "many\n",
      "wrong\n",
      "many\n",
      "many\n",
      "able\n",
      "favorite\n",
      "sure\n",
      "common\n",
      "misogynistic\n",
      "favorite\n",
      "dead\n",
      "super\n",
      "holy\n",
      "shit\n",
      "much\n",
      "dumb\n",
      "ive\n",
      "infectious\n",
      "much\n",
      "other\n",
      "little\n",
      "imax\n",
      "dead\n",
      "bad\n",
      "GOOD\n",
      "full\n",
      "holy\n",
      "same\n",
      "🥺😔\n",
      "//youtu.be/ZEW2wn2HcIo\n",
      "fucking\n",
      "na\n",
      "last\n",
      "puppy\n",
      "lil\n",
      "hot\n",
      "actual\n",
      "dog\n",
      "nice\n",
      "okay\n",
      "overlooked\n",
      "underrated\n",
      "frank\n",
      "exploitative\n",
      "gross\n",
      "other\n",
      "gon\n",
      "lemon\n",
      "fuck\n",
      "facial\n",
      "different\n",
      "second\n",
      "slow\n",
      "roblox\n",
      "famous\n"
     ]
    }
   ],
   "source": [
    "for t in posTagged[0:1000]:\n",
    "    if t[1] == 'JJ':\n",
    "        print(t[0])"
   ],
   "metadata": {
    "collapsed": false,
    "ExecuteTime": {
     "end_time": "2024-03-19T17:06:26.911383200Z",
     "start_time": "2024-03-19T17:06:26.908875800Z"
    }
   },
   "id": "5622c3995536b2c4",
   "execution_count": 27
  },
  {
   "cell_type": "markdown",
   "source": [
    "## chunking"
   ],
   "metadata": {
    "collapsed": false
   },
   "id": "e69f686a0b6d81f3"
  },
  {
   "cell_type": "code",
   "outputs": [
    {
     "name": "stdout",
     "output_type": "stream",
     "text": [
      "('I', 'PRP')\n",
      "('highly', 'RB')\n",
      "('recommend', 'VBP')\n",
      "(NP everyone/NN)\n",
      "('get', 'VB')\n",
      "('drunk', 'JJ')\n",
      "('with', 'IN')\n",
      "('friends', 'NNS')\n",
      "('and', 'CC')\n",
      "(NP watch/NN)\n",
      "('this', 'DT')\n",
      "('My', 'PRP$')\n",
      "(NP introduction/NN)\n",
      "('to', 'TO')\n",
      "('John', 'NNP')\n",
      "(NP cena/NN)\n",
      "(\"'s\", 'POS')\n",
      "('absolutely', 'RB')\n",
      "('delicious', 'JJ')\n",
      "('looking', 'VBG')\n"
     ]
    }
   ],
   "source": [
    "# How to Read the Grammar below:\n",
    "# Start with an optional (?) determiner ('DT')\n",
    "# Can have any number (*) of adjectives (JJ)\n",
    "# End with a noun (<NN>)\n",
    "grammar = \"NP: {<DT>?<JJ>*<NN>}\"\n",
    "\n",
    "# Instantiate the chunk parser\n",
    "parser = nltk.RegexpParser(grammar)\n",
    "\n",
    "# Run it on our tagged text\n",
    "tree = parser.parse(posTagged)\n",
    "\n",
    "# See some results\n",
    "for i in tree[0:20]:\n",
    "    print(i)"
   ],
   "metadata": {
    "collapsed": false,
    "ExecuteTime": {
     "end_time": "2024-03-19T16:39:29.711742700Z",
     "start_time": "2024-03-19T16:37:53.361174300Z"
    }
   },
   "id": "fa911f5ae93301",
   "execution_count": 15
  },
  {
   "cell_type": "code",
   "outputs": [
    {
     "name": "stdout",
     "output_type": "stream",
     "text": [
      "everyone\n",
      "watch\n",
      "introduction\n",
      "cena\n",
      "march\n",
      "this movie\n",
      "fun\n",
      "tomorrow\n",
      "movie\n",
      "the world\n",
      "a terrifying way\n",
      "somehow\n",
      "ass\n",
      "ass\n",
      "theater\n",
      "experience\n",
      "life\n",
      "fun\n",
      "movie\n",
      "tho\n"
     ]
    }
   ],
   "source": [
    "NPleaves = [subtree.leaves() for subtree in tree if type(subtree) == nltk.Tree and subtree.label() == \"NP\"]\n",
    "\n",
    "for a_list in NPleaves[0:20]:\n",
    "    np = [word for word,tag in a_list]\n",
    "    phrase = \" \".join(np)\n",
    "    print(phrase)"
   ],
   "metadata": {
    "collapsed": false,
    "ExecuteTime": {
     "end_time": "2024-03-19T16:39:36.187872600Z",
     "start_time": "2024-03-19T16:39:36.131456400Z"
    }
   },
   "id": "6390baa5a895aec",
   "execution_count": 16
  },
  {
   "cell_type": "code",
   "outputs": [],
   "source": [],
   "metadata": {
    "collapsed": false
   },
   "id": "d4e891fd196ad0a7"
  }
 ],
 "metadata": {
  "kernelspec": {
   "display_name": "Python 3",
   "language": "python",
   "name": "python3"
  },
  "language_info": {
   "codemirror_mode": {
    "name": "ipython",
    "version": 2
   },
   "file_extension": ".py",
   "mimetype": "text/x-python",
   "name": "python",
   "nbconvert_exporter": "python",
   "pygments_lexer": "ipython2",
   "version": "2.7.6"
  }
 },
 "nbformat": 4,
 "nbformat_minor": 5
}
