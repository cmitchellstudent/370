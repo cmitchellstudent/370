{
 "cells": [
  {
   "cell_type": "code",
   "outputs": [
    {
     "name": "stderr",
     "output_type": "stream",
     "text": [
      "Some weights of BertForSequenceClassification were not initialized from the model checkpoint at bert-base-uncased and are newly initialized: ['classifier.bias', 'classifier.weight']\n",
      "You should probably TRAIN this model on a down-stream task to be able to use it for predictions and inference.\n"
     ]
    }
   ],
   "source": [
    "from transformers import pipeline\n",
    "classifier = pipeline('sentiment-analysis', model='bert-base-uncased')"
   ],
   "metadata": {
    "collapsed": false,
    "ExecuteTime": {
     "end_time": "2024-04-17T19:51:33.322079600Z",
     "start_time": "2024-04-17T19:51:33.087636100Z"
    }
   },
   "id": "7f0af08b7ba366d1",
   "execution_count": 10
  },
  {
   "cell_type": "code",
   "outputs": [
    {
     "name": "stdout",
     "output_type": "stream",
     "text": [
      "Sentiment: Positive\n",
      "Score: 0.7488151788711548\n"
     ]
    }
   ],
   "source": [
    "# Define input text\n",
    "text = \"It was a fantastic movie and I loved it!\"\n",
    "\n",
    "# Perform sentiment analysis\n",
    "result = classifier(text)\n",
    "\n",
    "# Map output label to human-readable sentiment\n",
    "if result[0]['label'] == 'LABEL_1':\n",
    "    sentiment_label = 'Positive'\n",
    "else:\n",
    "    sentiment_label = 'Negative'\n",
    "\n",
    "# Print result\n",
    "print(\"Sentiment:\", sentiment_label)\n",
    "print(\"Score:\", result[0]['score'])"
   ],
   "metadata": {
    "collapsed": false,
    "ExecuteTime": {
     "end_time": "2024-04-17T19:51:34.798955500Z",
     "start_time": "2024-04-17T19:51:34.757140Z"
    }
   },
   "id": "5e19dd6f8732da3c",
   "execution_count": 11
  },
  {
   "cell_type": "code",
   "outputs": [
    {
     "name": "stdout",
     "output_type": "stream",
     "text": [
      "[{'label': 'LABEL_1', 'score': 0.7321440577507019}]\n",
      "[{'label': 'LABEL_1', 'score': 0.7396514415740967}]\n"
     ]
    }
   ],
   "source": [
    "print(classifier(\"I hated that movie.\"))\n",
    "# And again:\n",
    "print(classifier(\"That movie sucked.\"))"
   ],
   "metadata": {
    "collapsed": false,
    "ExecuteTime": {
     "end_time": "2024-04-17T19:51:36.073498100Z",
     "start_time": "2024-04-17T19:51:35.977725700Z"
    }
   },
   "id": "55ee7b0e2d6de15d",
   "execution_count": 12
  },
  {
   "cell_type": "code",
   "outputs": [],
   "source": [],
   "metadata": {
    "collapsed": false
   },
   "id": "7cc7ca436c1f4a29"
  }
 ],
 "metadata": {
  "kernelspec": {
   "display_name": "Python 3",
   "language": "python",
   "name": "python3"
  },
  "language_info": {
   "codemirror_mode": {
    "name": "ipython",
    "version": 2
   },
   "file_extension": ".py",
   "mimetype": "text/x-python",
   "name": "python",
   "nbconvert_exporter": "python",
   "pygments_lexer": "ipython2",
   "version": "2.7.6"
  }
 },
 "nbformat": 4,
 "nbformat_minor": 5
}
