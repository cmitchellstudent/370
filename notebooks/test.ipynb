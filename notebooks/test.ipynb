{
 "cells": [
  {
   "cell_type": "code",
   "outputs": [
    {
     "name": "stdout",
     "output_type": "stream",
     "text": [
      "hello world\n"
     ]
    }
   ],
   "source": [
    "print(\"hello world\")"
   ],
   "metadata": {
    "collapsed": false,
    "ExecuteTime": {
     "end_time": "2024-02-05T20:29:50.209139200Z",
     "start_time": "2024-02-05T20:29:50.202427700Z"
    }
   },
   "id": "4b4709f95b00be8e",
   "execution_count": 1
  },
  {
   "cell_type": "code",
   "outputs": [],
   "source": [
    "# Imports\n",
    "import re\n",
    "import nltk\n",
    "\n",
    "def diversity_and_length(path, title):\n",
    "    text_string =open(path, 'r', encoding=\"utf8\").read()\n",
    "    words = re.sub(\"[^a-zA-Z'’]\",\" \", text_string).lower().split()\n",
    "    lexdiv = len(set(words)) / len(words)\n",
    "    print(title + \": \")\n",
    "    print(\"length \" + str(words.__len__()))\n",
    "    print(\"lexdiv \" + str(lexdiv))\n",
    "    print(\"\\n\")\n",
    "    return\n",
    "\n"
   ],
   "metadata": {
    "collapsed": false,
    "ExecuteTime": {
     "end_time": "2024-02-06T16:57:55.630603400Z",
     "start_time": "2024-02-06T16:57:55.259534Z"
    }
   },
   "id": "54dd417e54179a5b",
   "execution_count": 1
  },
  {
   "cell_type": "code",
   "outputs": [],
   "source": [
    "diversity_and_length(\"C:\\\\Users\\Connor\\Desktop\\\\text-as-data\\data\\mdg.txt\", \"MDG\")\n",
    "diversity_and_length(\"C:\\\\Users\\Connor\\Desktop\\\\text-as-data\\data\\hod.txt\", \"HOD\")\n",
    "diversity_and_length(\"C:\\\\Users\\Connor\\Desktop\\\\text-as-data\\data\\hamlet.txt\", \"Hamlet\")\n",
    "diversity_and_length(\"C:\\\\Users\\Connor\\Desktop\\\\text-as-data\\people\\Connor_Mitchell\\\\movie_review.txt\", \"Random movie review\")\n",
    "diversity_and_length(\"C:\\\\Users\\Connor\\Desktop\\\\text-as-data\\people\\Connor_Mitchell\\\\1984.txt\", \"1984\")\n",
    "diversity_and_length(\"C:\\\\Users\\Connor\\Desktop\\\\text-as-data\\people\\Connor_Mitchell\\\\LeavesOfGrassWhitman.txt\", \"Walt Whitman Leaves of Grass\")"
   ],
   "metadata": {
    "collapsed": false,
    "is_executing": true
   },
   "id": "4c3c4d3483f9c4cc",
   "execution_count": null
  },
  {
   "cell_type": "code",
   "outputs": [],
   "source": [
    "#hello world"
   ],
   "metadata": {
    "collapsed": false,
    "ExecuteTime": {
     "end_time": "2024-03-12T01:02:29.548932Z",
     "start_time": "2024-03-12T01:02:29.544927200Z"
    }
   },
   "id": "cc068cf2ee0c9bc1",
   "execution_count": 1
  },
  {
   "cell_type": "code",
   "outputs": [],
   "source": [],
   "metadata": {
    "collapsed": false
   },
   "id": "4f24400c07a54e12"
  }
 ],
 "metadata": {
  "kernelspec": {
   "display_name": "Python 3",
   "language": "python",
   "name": "python3"
  },
  "language_info": {
   "codemirror_mode": {
    "name": "ipython",
    "version": 2
   },
   "file_extension": ".py",
   "mimetype": "text/x-python",
   "name": "python",
   "nbconvert_exporter": "python",
   "pygments_lexer": "ipython2",
   "version": "2.7.6"
  }
 },
 "nbformat": 4,
 "nbformat_minor": 5
}
