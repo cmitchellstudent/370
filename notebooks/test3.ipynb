{
 "cells": [
  {
   "cell_type": "code",
   "outputs": [],
   "source": [
    "# IMPORTS\n",
    "import re\n",
    "import pandas as pd\n",
    "import numpy as np\n",
    "from nltk.tokenize import word_tokenize, wordpunct_tokenize\n",
    "from sklearn.feature_extraction.text import CountVectorizer\n",
    "import os\n",
    "import json"
   ],
   "metadata": {
    "collapsed": false,
    "ExecuteTime": {
     "end_time": "2024-03-07T17:29:41.650500200Z",
     "start_time": "2024-03-07T17:29:39.751969800Z"
    }
   },
   "id": "356c8e6161fd75f2",
   "execution_count": 3
  },
  {
   "cell_type": "code",
   "outputs": [
    {
     "name": "stderr",
     "output_type": "stream",
     "text": [
      "IOPub data rate exceeded.\n",
      "The Jupyter server will temporarily stop sending output\n",
      "to the client in order to avoid crashing it.\n",
      "To change this limit, set the config variable\n",
      "`--ServerApp.iopub_data_rate_limit`.\n",
      "\n",
      "Current values:\n",
      "ServerApp.iopub_data_rate_limit=1000000.0 (bytes/sec)\n",
      "ServerApp.rate_limit_window=3.0 (secs)\n",
      "\n"
     ]
    }
   ],
   "source": [
    "# This is a very creaky way to load data\n",
    "\n",
    "\n",
    "x = 1\n",
    "directory = \"C:\\\\Users\\Connor\\Desktop\\letterboxd\\letterboxdCorpus\"\n",
    "for filename in os.listdir(directory):\n",
    "        if filename.endswith('.json'):\n",
    "            file_path = os.path.join(directory, filename)\n",
    "            with open(file_path, 'r') as file:\n",
    "                data = json.load(file)\n",
    "                while x > 2:\n",
    "                    print(data)\n",
    "                x += 1    \n",
    "                \n",
    "\n",
    "#print(strings[0])"
   ],
   "metadata": {
    "collapsed": false,
    "is_executing": true,
    "ExecuteTime": {
     "start_time": "2024-03-07T17:29:42.276891700Z"
    }
   },
   "id": "443a4eb83094d161",
   "execution_count": null
  },
  {
   "cell_type": "code",
   "outputs": [
    {
     "data": {
      "text/plain": "(16, 40000)"
     },
     "execution_count": 34,
     "metadata": {},
     "output_type": "execute_result"
    }
   ],
   "source": [
    "#def stringsToDataframe(arr):\n",
    "vectorizer = CountVectorizer()\n",
    "X = vectorizer.fit_transform(strings)\n",
    "X.shape\n",
    "\n"
   ],
   "metadata": {
    "collapsed": false,
    "ExecuteTime": {
     "end_time": "2024-03-07T03:31:32.137016600Z",
     "start_time": "2024-03-07T03:31:31.783698500Z"
    }
   },
   "id": "404ca82b0d5394c7",
   "execution_count": 34
  },
  {
   "cell_type": "code",
   "outputs": [
    {
     "data": {
      "text/plain": "          00       000  000lighting  000production       001  00100000  \\\n0   0.000000  0.000000     0.000000       0.000000  0.000000  0.000000   \n1   0.000000  0.000082     0.000000       0.000000  0.000000  0.000000   \n2   0.000000  0.000025     0.000000       0.000000  0.000000  0.000000   \n3   0.000000  0.000180     0.000000       0.000000  0.000000  0.000000   \n4   0.000000  0.000000     0.000000       0.000000  0.000000  0.000000   \n5   0.000000  0.000063     0.000000       0.000000  0.000000  0.000000   \n6   0.000000  0.000183     0.000046       0.000046  0.000000  0.000000   \n7   0.000026  0.000000     0.000000       0.000000  0.000026  0.000000   \n8   0.000000  0.000000     0.000000       0.000000  0.000000  0.000000   \n9   0.000000  0.000000     0.000000       0.000000  0.000000  0.000000   \n10  0.000000  0.000000     0.000000       0.000000  0.000000  0.000000   \n11  0.000000  0.000000     0.000000       0.000000  0.000000  0.000000   \n12  0.000000  0.000029     0.000000       0.000000  0.000000  0.000000   \n13  0.000000  0.000081     0.000000       0.000000  0.000000  0.000041   \n14  0.000000  0.000000     0.000000       0.000000  0.000000  0.000000   \n15  0.000000  0.000000     0.000000       0.000000  0.000000  0.000000   \n\n    00101110       002       007  00f439b783f5cd6ac7ad150dd5b5fbb3  ...  \\\n0    0.00000  0.000000  0.000000                          0.000000  ...   \n1    0.00000  0.000000  0.000000                          0.000000  ...   \n2    0.00000  0.000005  0.000035                          0.000000  ...   \n3    0.00000  0.000000  0.000000                          0.000006  ...   \n4    0.00000  0.000000  0.000000                          0.000000  ...   \n5    0.00000  0.000000  0.000000                          0.000000  ...   \n6    0.00000  0.000000  0.000000                          0.000000  ...   \n7    0.00000  0.000000  0.000000                          0.000000  ...   \n8    0.00000  0.000000  0.000000                          0.000000  ...   \n9    0.00000  0.000000  0.000000                          0.000000  ...   \n10   0.00000  0.000000  0.000000                          0.000000  ...   \n11   0.00000  0.000000  0.000000                          0.000000  ...   \n12   0.00000  0.000000  0.000000                          0.000000  ...   \n13   0.00001  0.000000  0.000020                          0.000000  ...   \n14   0.00000  0.000000  0.000000                          0.000000  ...   \n15   0.00000  0.000000  0.000000                          0.000000  ...   \n\n         𝓑𝓾𝔂       𝓜𝓮𝓷       𝓪𝓲𝓷       𝓪𝓷𝓭        𝓪𝓼     𝓫𝓸𝓸𝓴𝓼       𝓰𝓪𝔂  \\\n0   0.000000  0.000000  0.000000  0.000000  0.000000  0.000000  0.000000   \n1   0.000000  0.000000  0.000000  0.000000  0.000000  0.000000  0.000000   \n2   0.000000  0.000000  0.000000  0.000000  0.000000  0.000000  0.000000   \n3   0.000000  0.000000  0.000000  0.000000  0.000000  0.000000  0.000000   \n4   0.000027  0.000027  0.000027  0.000027  0.000027  0.000027  0.000027   \n5   0.000000  0.000000  0.000000  0.000000  0.000000  0.000000  0.000000   \n6   0.000000  0.000000  0.000000  0.000000  0.000000  0.000000  0.000000   \n7   0.000000  0.000000  0.000000  0.000000  0.000000  0.000000  0.000000   \n8   0.000000  0.000000  0.000000  0.000000  0.000000  0.000000  0.000000   \n9   0.000000  0.000000  0.000000  0.000000  0.000000  0.000000  0.000000   \n10  0.000000  0.000000  0.000000  0.000000  0.000000  0.000000  0.000000   \n11  0.000000  0.000000  0.000000  0.000000  0.000000  0.000000  0.000000   \n12  0.000000  0.000000  0.000000  0.000000  0.000000  0.000000  0.000000   \n13  0.000000  0.000000  0.000000  0.000000  0.000000  0.000000  0.000000   \n14  0.000000  0.000000  0.000000  0.000000  0.000000  0.000000  0.000000   \n15  0.000000  0.000000  0.000000  0.000000  0.000000  0.000000  0.000000   \n\n        𝓱𝓮𝓵𝓵        𝓶𝔂      𝓼𝓱𝓲𝓽  \n0   0.000000  0.000000  0.000000  \n1   0.000000  0.000000  0.000000  \n2   0.000000  0.000000  0.000000  \n3   0.000000  0.000000  0.000000  \n4   0.000027  0.000027  0.000027  \n5   0.000000  0.000000  0.000000  \n6   0.000000  0.000000  0.000000  \n7   0.000000  0.000000  0.000000  \n8   0.000000  0.000000  0.000000  \n9   0.000000  0.000000  0.000000  \n10  0.000000  0.000000  0.000000  \n11  0.000000  0.000000  0.000000  \n12  0.000000  0.000000  0.000000  \n13  0.000000  0.000000  0.000000  \n14  0.000000  0.000000  0.000000  \n15  0.000000  0.000000  0.000000  \n\n[16 rows x 40000 columns]",
      "text/html": "<div>\n<style scoped>\n    .dataframe tbody tr th:only-of-type {\n        vertical-align: middle;\n    }\n\n    .dataframe tbody tr th {\n        vertical-align: top;\n    }\n\n    .dataframe thead th {\n        text-align: right;\n    }\n</style>\n<table border=\"1\" class=\"dataframe\">\n  <thead>\n    <tr style=\"text-align: right;\">\n      <th></th>\n      <th>00</th>\n      <th>000</th>\n      <th>000lighting</th>\n      <th>000production</th>\n      <th>001</th>\n      <th>00100000</th>\n      <th>00101110</th>\n      <th>002</th>\n      <th>007</th>\n      <th>00f439b783f5cd6ac7ad150dd5b5fbb3</th>\n      <th>...</th>\n      <th>𝓑𝓾𝔂</th>\n      <th>𝓜𝓮𝓷</th>\n      <th>𝓪𝓲𝓷</th>\n      <th>𝓪𝓷𝓭</th>\n      <th>𝓪𝓼</th>\n      <th>𝓫𝓸𝓸𝓴𝓼</th>\n      <th>𝓰𝓪𝔂</th>\n      <th>𝓱𝓮𝓵𝓵</th>\n      <th>𝓶𝔂</th>\n      <th>𝓼𝓱𝓲𝓽</th>\n    </tr>\n  </thead>\n  <tbody>\n    <tr>\n      <th>0</th>\n      <td>0.000000</td>\n      <td>0.000000</td>\n      <td>0.000000</td>\n      <td>0.000000</td>\n      <td>0.000000</td>\n      <td>0.000000</td>\n      <td>0.00000</td>\n      <td>0.000000</td>\n      <td>0.000000</td>\n      <td>0.000000</td>\n      <td>...</td>\n      <td>0.000000</td>\n      <td>0.000000</td>\n      <td>0.000000</td>\n      <td>0.000000</td>\n      <td>0.000000</td>\n      <td>0.000000</td>\n      <td>0.000000</td>\n      <td>0.000000</td>\n      <td>0.000000</td>\n      <td>0.000000</td>\n    </tr>\n    <tr>\n      <th>1</th>\n      <td>0.000000</td>\n      <td>0.000082</td>\n      <td>0.000000</td>\n      <td>0.000000</td>\n      <td>0.000000</td>\n      <td>0.000000</td>\n      <td>0.00000</td>\n      <td>0.000000</td>\n      <td>0.000000</td>\n      <td>0.000000</td>\n      <td>...</td>\n      <td>0.000000</td>\n      <td>0.000000</td>\n      <td>0.000000</td>\n      <td>0.000000</td>\n      <td>0.000000</td>\n      <td>0.000000</td>\n      <td>0.000000</td>\n      <td>0.000000</td>\n      <td>0.000000</td>\n      <td>0.000000</td>\n    </tr>\n    <tr>\n      <th>2</th>\n      <td>0.000000</td>\n      <td>0.000025</td>\n      <td>0.000000</td>\n      <td>0.000000</td>\n      <td>0.000000</td>\n      <td>0.000000</td>\n      <td>0.00000</td>\n      <td>0.000005</td>\n      <td>0.000035</td>\n      <td>0.000000</td>\n      <td>...</td>\n      <td>0.000000</td>\n      <td>0.000000</td>\n      <td>0.000000</td>\n      <td>0.000000</td>\n      <td>0.000000</td>\n      <td>0.000000</td>\n      <td>0.000000</td>\n      <td>0.000000</td>\n      <td>0.000000</td>\n      <td>0.000000</td>\n    </tr>\n    <tr>\n      <th>3</th>\n      <td>0.000000</td>\n      <td>0.000180</td>\n      <td>0.000000</td>\n      <td>0.000000</td>\n      <td>0.000000</td>\n      <td>0.000000</td>\n      <td>0.00000</td>\n      <td>0.000000</td>\n      <td>0.000000</td>\n      <td>0.000006</td>\n      <td>...</td>\n      <td>0.000000</td>\n      <td>0.000000</td>\n      <td>0.000000</td>\n      <td>0.000000</td>\n      <td>0.000000</td>\n      <td>0.000000</td>\n      <td>0.000000</td>\n      <td>0.000000</td>\n      <td>0.000000</td>\n      <td>0.000000</td>\n    </tr>\n    <tr>\n      <th>4</th>\n      <td>0.000000</td>\n      <td>0.000000</td>\n      <td>0.000000</td>\n      <td>0.000000</td>\n      <td>0.000000</td>\n      <td>0.000000</td>\n      <td>0.00000</td>\n      <td>0.000000</td>\n      <td>0.000000</td>\n      <td>0.000000</td>\n      <td>...</td>\n      <td>0.000027</td>\n      <td>0.000027</td>\n      <td>0.000027</td>\n      <td>0.000027</td>\n      <td>0.000027</td>\n      <td>0.000027</td>\n      <td>0.000027</td>\n      <td>0.000027</td>\n      <td>0.000027</td>\n      <td>0.000027</td>\n    </tr>\n    <tr>\n      <th>5</th>\n      <td>0.000000</td>\n      <td>0.000063</td>\n      <td>0.000000</td>\n      <td>0.000000</td>\n      <td>0.000000</td>\n      <td>0.000000</td>\n      <td>0.00000</td>\n      <td>0.000000</td>\n      <td>0.000000</td>\n      <td>0.000000</td>\n      <td>...</td>\n      <td>0.000000</td>\n      <td>0.000000</td>\n      <td>0.000000</td>\n      <td>0.000000</td>\n      <td>0.000000</td>\n      <td>0.000000</td>\n      <td>0.000000</td>\n      <td>0.000000</td>\n      <td>0.000000</td>\n      <td>0.000000</td>\n    </tr>\n    <tr>\n      <th>6</th>\n      <td>0.000000</td>\n      <td>0.000183</td>\n      <td>0.000046</td>\n      <td>0.000046</td>\n      <td>0.000000</td>\n      <td>0.000000</td>\n      <td>0.00000</td>\n      <td>0.000000</td>\n      <td>0.000000</td>\n      <td>0.000000</td>\n      <td>...</td>\n      <td>0.000000</td>\n      <td>0.000000</td>\n      <td>0.000000</td>\n      <td>0.000000</td>\n      <td>0.000000</td>\n      <td>0.000000</td>\n      <td>0.000000</td>\n      <td>0.000000</td>\n      <td>0.000000</td>\n      <td>0.000000</td>\n    </tr>\n    <tr>\n      <th>7</th>\n      <td>0.000026</td>\n      <td>0.000000</td>\n      <td>0.000000</td>\n      <td>0.000000</td>\n      <td>0.000026</td>\n      <td>0.000000</td>\n      <td>0.00000</td>\n      <td>0.000000</td>\n      <td>0.000000</td>\n      <td>0.000000</td>\n      <td>...</td>\n      <td>0.000000</td>\n      <td>0.000000</td>\n      <td>0.000000</td>\n      <td>0.000000</td>\n      <td>0.000000</td>\n      <td>0.000000</td>\n      <td>0.000000</td>\n      <td>0.000000</td>\n      <td>0.000000</td>\n      <td>0.000000</td>\n    </tr>\n    <tr>\n      <th>8</th>\n      <td>0.000000</td>\n      <td>0.000000</td>\n      <td>0.000000</td>\n      <td>0.000000</td>\n      <td>0.000000</td>\n      <td>0.000000</td>\n      <td>0.00000</td>\n      <td>0.000000</td>\n      <td>0.000000</td>\n      <td>0.000000</td>\n      <td>...</td>\n      <td>0.000000</td>\n      <td>0.000000</td>\n      <td>0.000000</td>\n      <td>0.000000</td>\n      <td>0.000000</td>\n      <td>0.000000</td>\n      <td>0.000000</td>\n      <td>0.000000</td>\n      <td>0.000000</td>\n      <td>0.000000</td>\n    </tr>\n    <tr>\n      <th>9</th>\n      <td>0.000000</td>\n      <td>0.000000</td>\n      <td>0.000000</td>\n      <td>0.000000</td>\n      <td>0.000000</td>\n      <td>0.000000</td>\n      <td>0.00000</td>\n      <td>0.000000</td>\n      <td>0.000000</td>\n      <td>0.000000</td>\n      <td>...</td>\n      <td>0.000000</td>\n      <td>0.000000</td>\n      <td>0.000000</td>\n      <td>0.000000</td>\n      <td>0.000000</td>\n      <td>0.000000</td>\n      <td>0.000000</td>\n      <td>0.000000</td>\n      <td>0.000000</td>\n      <td>0.000000</td>\n    </tr>\n    <tr>\n      <th>10</th>\n      <td>0.000000</td>\n      <td>0.000000</td>\n      <td>0.000000</td>\n      <td>0.000000</td>\n      <td>0.000000</td>\n      <td>0.000000</td>\n      <td>0.00000</td>\n      <td>0.000000</td>\n      <td>0.000000</td>\n      <td>0.000000</td>\n      <td>...</td>\n      <td>0.000000</td>\n      <td>0.000000</td>\n      <td>0.000000</td>\n      <td>0.000000</td>\n      <td>0.000000</td>\n      <td>0.000000</td>\n      <td>0.000000</td>\n      <td>0.000000</td>\n      <td>0.000000</td>\n      <td>0.000000</td>\n    </tr>\n    <tr>\n      <th>11</th>\n      <td>0.000000</td>\n      <td>0.000000</td>\n      <td>0.000000</td>\n      <td>0.000000</td>\n      <td>0.000000</td>\n      <td>0.000000</td>\n      <td>0.00000</td>\n      <td>0.000000</td>\n      <td>0.000000</td>\n      <td>0.000000</td>\n      <td>...</td>\n      <td>0.000000</td>\n      <td>0.000000</td>\n      <td>0.000000</td>\n      <td>0.000000</td>\n      <td>0.000000</td>\n      <td>0.000000</td>\n      <td>0.000000</td>\n      <td>0.000000</td>\n      <td>0.000000</td>\n      <td>0.000000</td>\n    </tr>\n    <tr>\n      <th>12</th>\n      <td>0.000000</td>\n      <td>0.000029</td>\n      <td>0.000000</td>\n      <td>0.000000</td>\n      <td>0.000000</td>\n      <td>0.000000</td>\n      <td>0.00000</td>\n      <td>0.000000</td>\n      <td>0.000000</td>\n      <td>0.000000</td>\n      <td>...</td>\n      <td>0.000000</td>\n      <td>0.000000</td>\n      <td>0.000000</td>\n      <td>0.000000</td>\n      <td>0.000000</td>\n      <td>0.000000</td>\n      <td>0.000000</td>\n      <td>0.000000</td>\n      <td>0.000000</td>\n      <td>0.000000</td>\n    </tr>\n    <tr>\n      <th>13</th>\n      <td>0.000000</td>\n      <td>0.000081</td>\n      <td>0.000000</td>\n      <td>0.000000</td>\n      <td>0.000000</td>\n      <td>0.000041</td>\n      <td>0.00001</td>\n      <td>0.000000</td>\n      <td>0.000020</td>\n      <td>0.000000</td>\n      <td>...</td>\n      <td>0.000000</td>\n      <td>0.000000</td>\n      <td>0.000000</td>\n      <td>0.000000</td>\n      <td>0.000000</td>\n      <td>0.000000</td>\n      <td>0.000000</td>\n      <td>0.000000</td>\n      <td>0.000000</td>\n      <td>0.000000</td>\n    </tr>\n    <tr>\n      <th>14</th>\n      <td>0.000000</td>\n      <td>0.000000</td>\n      <td>0.000000</td>\n      <td>0.000000</td>\n      <td>0.000000</td>\n      <td>0.000000</td>\n      <td>0.00000</td>\n      <td>0.000000</td>\n      <td>0.000000</td>\n      <td>0.000000</td>\n      <td>...</td>\n      <td>0.000000</td>\n      <td>0.000000</td>\n      <td>0.000000</td>\n      <td>0.000000</td>\n      <td>0.000000</td>\n      <td>0.000000</td>\n      <td>0.000000</td>\n      <td>0.000000</td>\n      <td>0.000000</td>\n      <td>0.000000</td>\n    </tr>\n    <tr>\n      <th>15</th>\n      <td>0.000000</td>\n      <td>0.000000</td>\n      <td>0.000000</td>\n      <td>0.000000</td>\n      <td>0.000000</td>\n      <td>0.000000</td>\n      <td>0.00000</td>\n      <td>0.000000</td>\n      <td>0.000000</td>\n      <td>0.000000</td>\n      <td>...</td>\n      <td>0.000000</td>\n      <td>0.000000</td>\n      <td>0.000000</td>\n      <td>0.000000</td>\n      <td>0.000000</td>\n      <td>0.000000</td>\n      <td>0.000000</td>\n      <td>0.000000</td>\n      <td>0.000000</td>\n      <td>0.000000</td>\n    </tr>\n  </tbody>\n</table>\n<p>16 rows × 40000 columns</p>\n</div>"
     },
     "execution_count": 35,
     "metadata": {},
     "output_type": "execute_result"
    }
   ],
   "source": [
    "df = pd.DataFrame(X.toarray(), columns=vectorizer.get_feature_names_out())\n",
    "df = df.div(df.sum(axis=1), axis=0)\n",
    "df"
   ],
   "metadata": {
    "collapsed": false,
    "ExecuteTime": {
     "end_time": "2024-03-07T03:31:34.560418500Z",
     "start_time": "2024-03-07T03:31:34.512848700Z"
    }
   },
   "id": "9c696d8aedd920a7",
   "execution_count": 35
  },
  {
   "cell_type": "code",
   "outputs": [],
   "source": [],
   "metadata": {
    "collapsed": false
   },
   "id": "ac8d8afb9c99255"
  }
 ],
 "metadata": {
  "kernelspec": {
   "display_name": "Python 3",
   "language": "python",
   "name": "python3"
  },
  "language_info": {
   "codemirror_mode": {
    "name": "ipython",
    "version": 2
   },
   "file_extension": ".py",
   "mimetype": "text/x-python",
   "name": "python",
   "nbconvert_exporter": "python",
   "pygments_lexer": "ipython2",
   "version": "2.7.6"
  }
 },
 "nbformat": 4,
 "nbformat_minor": 5
}
