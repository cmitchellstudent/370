{
 "cells": [
  {
   "cell_type": "markdown",
   "source": [
    "## Emoji Data\n",
    "I've decided to look into the usage of emojis in letterboxd reviews. As the first part of this process, I've rerun my web scraper and expanded my corpus from ~25,000 reviews to ~48,000 (stored in all2.csv). I actually did this halfway thru writing this notebook, as I found myself wanting more sample size. Going into this project, I wanted to track what movies are associated with what emojis, as well as some kind of average score metric that could serve as a sort of sentiment analysis.\n",
    "\n",
    "Next step is converting the bigger corpus to a list."
   ],
   "metadata": {
    "collapsed": false
   },
   "id": "be6a5b0aae290ae8"
  },
  {
   "cell_type": "code",
   "execution_count": 2,
   "id": "initial_id",
   "metadata": {
    "collapsed": true,
    "ExecuteTime": {
     "end_time": "2024-05-01T19:25:42.756329700Z",
     "start_time": "2024-05-01T19:25:42.069517100Z"
    }
   },
   "outputs": [
    {
     "name": "stdout",
     "output_type": "stream",
     "text": [
      "9/10 Next time I see a rich person I'm breaking their arm     \n",
      "triangle-of-sadness\n"
     ]
    }
   ],
   "source": [
    "import pandas as pd\n",
    "df = pd.read_csv('C:\\\\Users\\Connor\\Desktop\\\\370\\letterboxdCorpus\\\\all2.csv')\n",
    "reviews = df.reviews.tolist()\n",
    "titles = df.movie.tolist()\n",
    "print(reviews[500])\n",
    "print(titles[500])"
   ]
  },
  {
   "cell_type": "markdown",
   "source": [
    "I'm going to take an object-oriented approach, so I'm going to write a class for each emoji. The goal is to have a list of these objects, differentiated by what emoji they portray. Each obj has its emoji value, like the cowboy🤠, and a list of every movie where the said value was found in a review. Adjacent to the movie list is the score list, where the score of the review is held in the same index.\n",
    "\n",
    "For example, this:\n",
    "The Good, the Bad and the Ugly - 10/10 best 🤠 movie\n",
    "creates:\n",
    "    Emote\n",
    "    value: 🤠\n",
    "    related_movies[0] = The Good, the Bad and the Ugly\n",
    "    related_scores[0] = 10\n",
    "and subsequent cowboy-emoji-using reviews will add onto this object.\n",
    "    \n",
    "The class also has a method for printing out related movies and scores, and a method for averaging the related scores array."
   ],
   "metadata": {
    "collapsed": false
   },
   "id": "897356384a5bb7c"
  },
  {
   "cell_type": "code",
   "outputs": [],
   "source": [
    "class Emote:\n",
    "    def __init__(self, value):\n",
    "        self.value = value\n",
    "        self.related_movies = []\n",
    "        self.related_scores = []\n",
    "    def add_movie(self, movie_title):\n",
    "        self.related_movies.append(movie_title)\n",
    "    def add_score(self, score):\n",
    "        if type(score) is int:\n",
    "            self.related_scores.append(score)\n",
    "    def display(self, display_limit):\n",
    "        print(\"Emoji: \" + self.value)\n",
    "        print(\"Used in the following reviews (limited to \" + str(display_limit) + \"): \")\n",
    "        limit = min(display_limit, len(self.related_movies))\n",
    "        for i in range(limit):\n",
    "            print(\"\\t\"+ self.related_movies[i] + \": \" + str(self.related_scores[i]) + \"/10\")\n",
    "    def calc_avg_score(self):\n",
    "        numerator = 0\n",
    "        denom = 0\n",
    "        for number in self.related_scores:\n",
    "            if number != -1:\n",
    "                numerator += number\n",
    "                denom += 1\n",
    "        try:\n",
    "            return numerator/denom\n",
    "        except ZeroDivisionError:\n",
    "            return -1\n",
    "    "
   ],
   "metadata": {
    "collapsed": false,
    "ExecuteTime": {
     "end_time": "2024-04-25T16:08:33.201924Z",
     "start_time": "2024-04-25T16:08:33.200418600Z"
    }
   },
   "id": "b47437aff69ed336",
   "execution_count": 2
  },
  {
   "cell_type": "markdown",
   "source": [
    "Now that the class is defined, I'm going to prune all the reviews into a format of emoji::movie-title::score and then sort them."
   ],
   "metadata": {
    "collapsed": false
   },
   "id": "a426f0feffb91602"
  },
  {
   "cell_type": "code",
   "outputs": [
    {
     "name": "stdout",
     "output_type": "stream",
     "text": [
      "['1️⃣::a-nightmare-on-elm-street::7', '2️⃣::a-nightmare-on-elm-street::7', '3️⃣::a-nightmare-on-elm-street::7', '4️⃣::a-nightmare-on-elm-street::7', '5️⃣::a-nightmare-on-elm-street::7', '6️⃣::a-nightmare-on-elm-street::7', '7️⃣::a-nightmare-on-elm-street::7', '8️⃣::a-nightmare-on-elm-street::7', '9️⃣::a-nightmare-on-elm-street::7', '©::cremaster-3::10', '®::cremaster-3::10', '®::kong-skull-island::7', '®::olympus-has-fallen::5', '®::the-big-shave::8', '‼️::all-that-heaven-allows::7', '‼️::badlands::6', '‼️::cinderella-2015::8', '‼️::evil-dead-rise::8', '‼️::mona-lisa-and-the-blood-moon::8', '‼️::shin-godzilla::8', '‼️::spider-man-homecoming::8', '‼️::the-dark-knight::8', '‼️::the-killer-2023::5', '‼️::the-meyerowitz-stories-new-and-selected::9', '‼️::the-spirit-of-45::7', '‼️::wild-child::7', '™::1917::8', '™::8-half::10', '™::amistad::6', '™::an-unmarried-woman::10', '™::annabelle-creation::4', '™::ant-man-and-the-wasp::7', '™::apocalypse-now::9', '™::baby-driver::5', '™::belfast::7', '™::birds-of-prey-and-the-fantabulous-emancipation-of-one-harley-quinn::6', '™::blue-ruin::8', '™::bubble-boy::3', '™::cremaster-3::10', '™::dogtooth::6', '™::dolittle::3', '™::dune::6', '™::dying-young::1', '™::fantastic-beasts-and-where-to-find-them::4', '™::faults::7', '™::four-weddings-and-a-funeral::10', '™::ghostbusters-2016::4', '™::godzilla-king-of-the-monsters-2019::5', '™::grease::6', '™::green-room::6', '™::halloween-resurrection::3', '™::hard-eight::8', '™::inglourious-basterds::9', '™::interstellar::9', '™::keanu::8', '™::keeping-up-with-the-joneses::5', '™::midnight-mass-2021::10', '™::oceans-eleven-2001::8', '™::playing-with-fire-2019::2', '™::postcards-from-the-edge::8', '™::primeval::2', '™::prisoners::10', '™::ready-or-not-2019::7', '™::shiva-baby-2020::10', '™::skinamarink::6', '™::sleeping-beauty-2011::3', '™::snowden::4', '™::stalker::9', '™::star-trek::9', '™::star-wars-the-last-jedi::7', '™::step-up-2-the-streets::5', '™::steve-jobs::4', '™::stoker::10', '™::the-beguiled-2017::9', '™::the-bling-ring::7', '™::the-fly-1986::10', '™::the-godfather::8', '™::the-hurt-locker::9', '™::the-imitation-game::8', '™::the-lord-of-the-rings-the-two-towers::8', '™::the-love-witch::7', '™::the-miseducation-of-cameron-post::7', '™::the-monster-2016::7', '™::the-perks-of-being-a-wallflower::7', '™::the-wailing::10', '™::the-watch-2012::4', '™::twister::9', '™::what-happens-in-vegas::4', '™::zodiac::10', '™️::1917::4', '™️::billionaire-boys-club-2018::3', '™️::bullet-train::7', '™️::equals::6', '™️::gemini-2017::8', '™️::gifted-2017::7', '™️::never-goin-back::7', '™️::overlord-2018::6', '™️::she-hulk-attorney-at-law::7', '™️::the-lobster::9', '™️::the-lord-of-the-rings-the-two-towers::10']\n"
     ]
    }
   ],
   "source": [
    "import emoji\n",
    "object_list = []\n",
    "organized_data = []\n",
    "for i in range(len(reviews)):\n",
    "    emoji_list = emoji.distinct_emoji_list(reviews[i])\n",
    "    if len(emoji_list) != 0:\n",
    "        for face in emoji_list:\n",
    "            temp = reviews[i].split(\"/\")\n",
    "            score = \"\"\n",
    "            try:\n",
    "                score = int(temp[0])\n",
    "            except ValueError:\n",
    "                score = \"None\"\n",
    "            organized_data.append(face + \"::\"+ titles[i] + \"::\"+ str(score))\n",
    "            \n",
    "organized_data.sort()\n",
    "print(organized_data[0:100])\n",
    "        "
   ],
   "metadata": {
    "collapsed": false,
    "ExecuteTime": {
     "end_time": "2024-04-25T16:35:37.093616100Z",
     "start_time": "2024-04-25T16:35:29.308286600Z"
    }
   },
   "id": "8a25532b902cf372",
   "execution_count": 24
  },
  {
   "cell_type": "markdown",
   "source": [
    "And now split the above format by \"::\" to easily create all the emoji objects."
   ],
   "metadata": {
    "collapsed": false
   },
   "id": "b567dd5ad810bbd2"
  },
  {
   "cell_type": "code",
   "outputs": [
    {
     "data": {
      "text/plain": "428"
     },
     "execution_count": 4,
     "metadata": {},
     "output_type": "execute_result"
    }
   ],
   "source": [
    "previous = \"\"\n",
    "for line in organized_data:\n",
    "    #[0] = face, [1] = title, [2] = score(string)\n",
    "    traits = line.split(\"::\")\n",
    "    face = traits[0]\n",
    "    title = traits[1]\n",
    "    try:\n",
    "        score = int(traits[2])\n",
    "    except ValueError:\n",
    "        score = -1\n",
    "        #this is the case where they leave a review with no score. \n",
    "        #the -1 is intended to be ignored in calculations\n",
    "    if face != previous:\n",
    "        obj = Emote(face)\n",
    "        obj.add_movie(title)\n",
    "        obj.add_score(score)\n",
    "        object_list.append(obj)\n",
    "    elif face == previous:\n",
    "        for thing in object_list:\n",
    "            if thing.value == face:\n",
    "                thing.add_movie(title)\n",
    "                thing.add_score(score)\n",
    "    \n",
    "    previous = face\n",
    "    \n",
    "len(object_list)\n"
   ],
   "metadata": {
    "collapsed": false,
    "ExecuteTime": {
     "end_time": "2024-04-25T16:08:41.124105600Z",
     "start_time": "2024-04-25T16:08:41.097637100Z"
    }
   },
   "id": "93d41bf154f203e9",
   "execution_count": 4
  },
  {
   "cell_type": "markdown",
   "source": [
    "^ 428 unique emojis were used across the corpus. Part of me expected most of the different emojis to be used at least once, but scrolling through my phone there seems to be a lot more 428 emojis. Anyway, here's random stats gathered by the display and avg score methods. "
   ],
   "metadata": {
    "collapsed": false
   },
   "id": "75156fab63395410"
  },
  {
   "cell_type": "code",
   "outputs": [
    {
     "name": "stdout",
     "output_type": "stream",
     "text": [
      "Emoji: 🙏\n",
      "Used in the following reviews (limited to 10): \n",
      "\ta-nightmare-on-elm-street: 7/10\n",
      "\ta-summers-tale: 10/10\n",
      "\tfrances-ha: 9/10\n",
      "\traiders-of-the-lost-ark: 10/10\n",
      "\tthe-deer-king: 7/10\n",
      "\ttopsy-turvy: 7/10\n",
      "avg: 8.333333333333334\n",
      "Emoji: 🎉\n",
      "Used in the following reviews (limited to 10): \n",
      "\tenter-the-void: 8/10\n",
      "\tpans-labyrinth: 9/10\n",
      "\tthe-rental: 6/10\n",
      "avg: 7.666666666666667\n",
      "Emoji: 🌷\n",
      "Used in the following reviews (limited to 10): \n",
      "\tle-bonheur: 10/10\n",
      "avg: 10.0\n",
      "Emoji: ♠\n",
      "Used in the following reviews (limited to 10): \n",
      "\tcremaster-3: 10/10\n",
      "avg: 10.0\n",
      "Emoji: 💖\n",
      "Used in the following reviews (limited to 10): \n",
      "\tdownton-abbey: 8/10\n",
      "\tedward-scissorhands: 9/10\n",
      "\tel-camino-a-breaking-bad-movie: 6/10\n",
      "\tflavors-of-youth: 8/10\n",
      "\thearts-beat-loud: 8/10\n",
      "\thush-2001: 9/10\n",
      "\tinception: 10/10\n",
      "\tkedi-2016: 9/10\n",
      "\tmidnight-mass-2021: -1/10\n",
      "\tnotorious: 8/10\n",
      "avg: 8.176470588235293\n",
      "Emoji: 💣\n",
      "Used in the following reviews (limited to 10): \n",
      "\tsuburbicon: 4/10\n",
      "\tthe-super-mario-bros-movie: 7/10\n",
      "avg: 5.5\n",
      "Emoji: 👀\n",
      "Used in the following reviews (limited to 10): \n",
      "\ta-cure-for-wellness: 6/10\n",
      "\tbird-box: 7/10\n",
      "\tbreathless: 8/10\n",
      "\tbring-it-on: 10/10\n",
      "\tfallen-angel: 8/10\n",
      "\tjustice-league: -1/10\n",
      "\tla-la-land: 10/10\n",
      "\tlegally-blonde: 10/10\n",
      "\tnapoleon-dynamite: 10/10\n",
      "\tneruda-2016: 6/10\n",
      "avg: 7.8\n",
      "Emoji: 💭\n",
      "Used in the following reviews (limited to 10): \n",
      "\tthe-place-beyond-the-pines: 9/10\n",
      "avg: 9.0\n",
      "Emoji: 😛\n",
      "Used in the following reviews (limited to 10): \n",
      "\tflavors-of-youth: 8/10\n",
      "\ttampopo: 8/10\n",
      "\tthe-twilight-saga-breaking-dawn-part-2: 2/10\n",
      "\tthe-twilight-saga-new-moon: 5/10\n",
      "\tthree-billboards-outside-ebbing-missouri: 8/10\n",
      "\tvenom-let-there-be-carnage: 5/10\n",
      "avg: 6.0\n",
      "Emoji: 💅🏼\n",
      "Used in the following reviews (limited to 10): \n",
      "\tmelancholia: 8/10\n",
      "\tsgualdrina: 6/10\n",
      "\tthe-bling-ring: 7/10\n",
      "avg: 7.0\n"
     ]
    }
   ],
   "source": [
    "import random\n",
    "for i in range(10):\n",
    "    rand = random.randint(0,428)\n",
    "    object_list[rand].display(10)\n",
    "    print(\"avg: \" + str(object_list[rand].calc_avg_score()))"
   ],
   "metadata": {
    "collapsed": false,
    "ExecuteTime": {
     "end_time": "2024-04-25T16:08:41.147338200Z",
     "start_time": "2024-04-25T16:08:41.126108300Z"
    }
   },
   "id": "f5f0c25e26e51d58",
   "execution_count": 5
  },
  {
   "cell_type": "markdown",
   "source": [
    "A burning question, what is the most used emoji? and how many times have users appended an emoji to their review?"
   ],
   "metadata": {
    "collapsed": false
   },
   "id": "f223298be7942b7e"
  },
  {
   "cell_type": "code",
   "outputs": [
    {
     "name": "stdout",
     "output_type": "stream",
     "text": [
      "[('😭', 104), ('❤️', 71), ('™', 63), ('😔', 41), ('🥺', 38), ('👍', 30), ('😌', 28), ('😳', 25), ('🤝', 25), ('😍', 24), ('💕', 23), ('👀', 22), ('👏', 22), ('😩', 22), ('🤠', 20), ('💖', 18), ('😂', 18), ('🤔', 18), ('🥰', 18), ('💀', 17), ('💞', 17), ('🔥', 17), ('✌️', 14), ('✨', 14), ('🎵', 14), ('👌', 14), ('™️', 13), ('🎶', 13), ('‼️', 12), ('👻', 12), ('😢', 12), ('💗', 11), ('💛', 11), ('💯', 11), ('💓', 10), ('😘', 10), ('🥳', 10), ('✅', 9), ('👄', 9), ('💔', 9), ('💘', 9), ('😎', 9), ('😬', 9), ('😱', 9), ('🤢', 9), ('🤭', 9), ('🥴', 9), ('🥵', 9), ('✊', 8), ('❤', 8), ('👉', 8), ('💙', 8), ('💚', 8), ('💜', 8), ('😁', 8), ('😜', 8), ('🙄', 8), ('✈️', 7), ('👈', 7), ('💝', 7), ('😡', 7), ('😪', 7), ('🥲', 7), ('✔', 6), ('🇺🇸', 6), ('👁', 6), ('👁️', 6), ('👏🏼', 6), ('💦', 6), ('😇', 6), ('😊', 6), ('😏', 6), ('😛', 6), ('😝', 6), ('😫', 6), ('😴', 6), ('🙏', 6), ('🤐', 6), ('☕', 5), ('❌', 5), ('🎄', 5), ('👅', 5), ('👎', 5), ('💅', 5), ('😀', 5), ('😋', 5), ('😐', 5), ('😙', 5), ('😵\\u200d💫', 5), ('🤨', 5), ('🤪', 5), ('®', 4), ('☝️', 4), ('☺️', 4), ('❄️', 4), ('🐐', 4), ('👊', 4), ('👏🏻', 4), ('💋', 4), ('😤', 4), ('😥', 4), ('🙀', 4), ('🙂', 4), ('🤩', 4), ('🤲', 4), ('🫡', 4), ('☹️', 3), ('⚠️', 3), ('🆘', 3), ('🇮🇹', 3), ('🌈', 3), ('🌞', 3), ('🌸', 3), ('🌼', 3), ('🌿', 3), ('🍆', 3), ('🎃', 3), ('🎉', 3), ('🏳️\\u200d🌈', 3), ('👋', 3), ('👍🏼', 3), ('👣', 3), ('💃🏻', 3), ('💅🏼', 3), ('💥', 3), ('💪', 3), ('💫', 3), ('💰', 3), ('🔪', 3), ('🔫', 3), ('😞', 3), ('😠', 3), ('😮\\u200d💨', 3), ('😰', 3), ('🙏🏼', 3), ('🚫', 3), ('🤙', 3), ('🤡', 3), ('🤤', 3), ('🤬', 3), ('🥹', 3), ('🦄', 3), ('🧡', 3), ('☀️', 2), ('☃️', 2), ('☑', 2), ('☠️', 2), ('♥', 2), ('⚪', 2), ('✋', 2), ('✌🏼', 2), ('🌝', 2), ('🌱', 2), ('🍑', 2), ('🍚', 2), ('🍜', 2), ('🍱', 2), ('🍳', 2), ('🍿', 2), ('🎁', 2), ('🎼', 2), ('🐙', 2), ('🐱', 2), ('🐴', 2), ('🐸', 2), ('👌🏻', 2), ('👍🏻', 2), ('👑', 2), ('👛', 2), ('👽', 2), ('💁🏼', 2), ('💃🏼', 2), ('💊', 2), ('💐', 2), ('💒', 2), ('💣', 2), ('📚', 2), ('🔍', 2), ('🔗', 2), ('🖕', 2), ('🖤', 2), ('🗣️', 2), ('😃', 2), ('😒', 2), ('😟', 2), ('😵', 2), ('😻', 2), ('🙃', 2), ('🙈', 2), ('🙋\\u200d♀️', 2), ('🚂', 2), ('🚓', 2), ('🚩', 2), ('🤑', 2), ('🤓', 2), ('🤙🏻', 2), ('🤚', 2), ('🤣', 2), ('🤧', 2), ('🤮', 2), ('🤷🏻\\u200d♀️', 2), ('🪄', 2), ('1️⃣', 1), ('2️⃣', 1), ('3️⃣', 1), ('4️⃣', 1), ('5️⃣', 1), ('6️⃣', 1), ('7️⃣', 1), ('8️⃣', 1), ('9️⃣', 1), ('©', 1), ('⏱', 1), ('☀', 1), ('☁', 1), ('☁️', 1), ('☂', 1), ('☃', 1), ('☄', 1), ('☄️', 1), ('☎️', 1), ('☔', 1), ('☘️', 1), ('☝', 1), ('☝🏻', 1), ('☠', 1), ('☮', 1), ('☯', 1), ('☺', 1), ('♀', 1), ('♂', 1), ('♋', 1), ('♒', 1), ('♠', 1), ('♣', 1), ('♦', 1), ('⚡', 1), ('⛵', 1), ('✂', 1), ('✂️', 1), ('✉', 1), ('✊🏻', 1), ('✌🏻', 1), ('✏️', 1), ('❗', 1), ('⬆️', 1), ('⭐', 1), ('🌃', 1), ('🌚', 1), ('🌲', 1), ('🌷', 1), ('🌹', 1), ('🌺', 1), ('🌻', 1), ('🌾', 1), ('🍂', 1), ('🍃', 1), ('🍄', 1), ('🍙', 1), ('🍛', 1), ('🍞', 1), ('🍤', 1), ('🍥', 1), ('🍩', 1), ('🍬', 1), ('🍺', 1), ('🍽️', 1), ('🎀', 1), ('🎆', 1), ('🎖️', 1), ('🎤', 1), ('🎨', 1), ('🎸', 1), ('🎻', 1), ('🏂', 1), ('🏃\\u200d♀️', 1), ('🏆', 1), ('🏳️\\u200d⚧️', 1), ('🏴\\u200d☠️', 1), ('🐄', 1), ('🐇', 1), ('🐉', 1), ('🐍', 1), ('🐘', 1), ('🐛', 1), ('🐝', 1), ('🐤', 1), ('🐦', 1), ('🐧', 1), ('🐭', 1), ('🐲', 1), ('🐶', 1), ('🐻', 1), ('👁\\u200d🗨', 1), ('👂🏻', 1), ('👃', 1), ('👃🏻', 1), ('👆', 1), ('👉🏻', 1), ('👊🏼', 1), ('👍🏽', 1), ('👎🏽', 1), ('👐', 1), ('👐🏻', 1), ('👕', 1), ('👜', 1), ('👠', 1), ('👢', 1), ('👨\\u200d❤️\\u200d💋\\u200d👨', 1), ('👨\\u200d🍳', 1), ('👩', 1), ('👩\\u200d❤️\\u200d💋\\u200d👨', 1), ('👩\\u200d❤️\\u200d💋\\u200d👩', 1), ('👩\\u200d💻', 1), ('👩\\u200d🦰', 1), ('👫', 1), ('👬', 1), ('👭', 1), ('👰', 1), ('👶', 1), ('👸🏻', 1), ('👼', 1), ('👼🏻', 1), ('👼🏼', 1), ('👾', 1), ('💁\\u200d♀️', 1), ('💁🏻', 1), ('💁🏾', 1), ('💃', 1), ('💍', 1), ('💭', 1), ('💵', 1), ('💸', 1), ('📝', 1), ('📞', 1), ('📱', 1), ('📸', 1), ('📺', 1), ('📽', 1), ('🔁', 1), ('🔈', 1), ('🔊', 1), ('🔑', 1), ('🔚', 1), ('🔜', 1), ('🔟', 1), ('🔮', 1), ('🕊️', 1), ('🕐', 1), ('🕶️', 1), ('🕺', 1), ('🕺🏻', 1), ('🖋', 1), ('🗓', 1), ('🗝', 1), ('🗣', 1), ('🗿', 1), ('😆', 1), ('😈', 1), ('😉', 1), ('😑', 1), ('😖', 1), ('😚', 1), ('😮', 1), ('😶', 1), ('😿', 1), ('🙁', 1), ('🙅\\u200d♀️', 1), ('🙅🏼\\u200d♀️', 1), ('🙅🏼\\u200d♂️', 1), ('🙆\\u200d♀️', 1), ('🙋🏻\\u200d♀️', 1), ('🙎\\u200d♂️', 1), ('🙏🏻', 1), ('🚇', 1), ('🚈', 1), ('🚉', 1), ('🚙', 1), ('🚨', 1), ('🚪', 1), ('🚬', 1), ('🚴\\u200d♀️', 1), ('🚶\\u200d♂️', 1), ('🛍', 1), ('🛏', 1), ('🛐', 1), ('🛶', 1), ('🛸', 1), ('🤌', 1), ('🤌🏼', 1), ('🤍', 1), ('🤒', 1), ('🤖', 1), ('🤗', 1), ('🤞', 1), ('🤞🏻', 1), ('🤟🏻', 1), ('🤥', 1), ('🤦\\u200d♀️', 1), ('🤫', 1), ('🤯', 1), ('🤷\\u200d♀️', 1), ('🤷🏽\\u200d♀️', 1), ('🤼\\u200d♂️', 1), ('🥂', 1), ('🥉', 1), ('🥚', 1), ('🥟', 1), ('🥤', 1), ('🥱', 1), ('🦃', 1), ('🦅', 1), ('🦉', 1), ('🦌', 1), ('🦶🏻', 1), ('🧃', 1), ('🧍\\u200d♀️', 1), ('🧍🏼', 1), ('🧐', 1), ('🧚🏼\\u200d♀️', 1), ('🧛🏻\\u200d♂️', 1), ('🧜\\u200d♀️', 1), ('\\U0001fa77', 1), ('🪖', 1), ('🫠', 1), ('🫣', 1), ('🫵🏻', 1), ('🫶', 1)]\n",
      "Total emojis in corpus: 1745\n"
     ]
    }
   ],
   "source": [
    "#emoji frequency\n",
    "freq = {}\n",
    "summ = 0\n",
    "for obj in object_list:\n",
    "    freq[obj.value] = len(obj.related_movies)\n",
    "    summ += len(obj.related_movies)\n",
    "sorted_freq = sorted(freq.items(), key=lambda kv: kv[1], reverse=True)\n",
    "print(sorted_freq)\n",
    "print(\"Total emojis in corpus: \" + str(summ))"
   ],
   "metadata": {
    "collapsed": false,
    "ExecuteTime": {
     "end_time": "2024-04-25T16:29:20.661407400Z",
     "start_time": "2024-04-25T16:29:20.653955400Z"
    }
   },
   "id": "4f9dd1ca3cdbf6b8",
   "execution_count": 22
  },
  {
   "cell_type": "markdown",
   "source": [
    "Evidently, the most used emojis are the sobbing face, followed by red heart, and then the trademark symbol. Sobbing face makes sense, as it conveys sadness, sobbing from laughter, or just general exaggerated misery; so it is a widely applicable emoji as a response to movies. And red heart makes enough sense. But I had to look into trademark symbol, where a lot of its usage ends up being for sarcastic purposes. If you ctrl+f it in all2.csv, you'll see the weird ways people use the trademark emoji.\n",
    "\n",
    "primeval,dirkh,\"2/10 In the left corner we have Evil African Warlord™ killing innocent people!!!   In the right corner we have Crappy CGI Crocodile™ spilling lots of Crappy CGI Blood™ !!!   Caught in the middle are Tough Guy™, Hot Chick™, Science Guy™ and Black Guy™ accompanied by Weird Eccentric Guy™ trying to make sense of it all by doing silly things and running around a lot.  The best acting is done by the crocodile and the fact that this is all based on true events is just too silly to mention.     \"\n",
    "\n",
    "stoker,deathproof,10/10 this is My Movie™     \n",
    "\n",
    "postcards-from-the-edge,brat,8/10 coincidence that they cast dennis quaid aka harrison ford Lite™ as carrie fisher's love interest?? i think not!!!! 👀 \n",
    "8-half,usercillian,\"10/10 bitch even that title is meta, consider me shook™     \"\n",
    "\n",
    " \n",
    "It's definitely some odd social media culture thing.\n",
    "\n",
    "Amount of emojis in corpus: 1745. Which I find greatly disappointing for 48,000 reviews. I suppose people often sit down and write most of their reviews on desktop more often than a quick tweet-like response to a movie via the letterboxd app. I gathered the data mainly from the top users, who maybe gained traction through beautiful prosaic reviews that may make a effort to lack emojis.\n",
    "\n",
    "So which emojis have generally high scores vs. low?"
   ],
   "metadata": {
    "collapsed": false
   },
   "id": "a8857ac611f1d6a"
  },
  {
   "cell_type": "code",
   "outputs": [
    {
     "name": "stdout",
     "output_type": "stream",
     "text": [
      "{'✔': 8.666666666666666, '😢': 8.666666666666666, '🥲': 8.666666666666666, '🥵': 8.666666666666666, '💛': 8.545454545454545, '☕': 8.4, '😋': 8.4, '🙏': 8.333333333333334, '🥴': 8.333333333333334, '✌️': 8.214285714285714, '😵\\u200d💫': 8.2, '💖': 8.176470588235293, '😇': 8.166666666666666, '🥰': 8.11111111111111, '🤠': 8.1, '❤': 8.0, '💚': 8.0, '🤨': 8.0, '🔥': 7.9375, '👌': 7.923076923076923, '👏': 7.909090909090909, '😱': 7.888888888888889, '💜': 7.875, '👀': 7.8, '💘': 7.75, '💙': 7.75, '😜': 7.75, '😳': 7.72, '😁': 7.714285714285714, '😩': 7.714285714285714, '👁️': 7.666666666666667, '👄': 7.666666666666667, '🥳': 7.666666666666667, '😌': 7.6, '💞': 7.588235294117647, '💯': 7.545454545454546, '✈️': 7.5, '✊': 7.5, '👏🏼': 7.5, '💓': 7.5, '💗': 7.5, '😭': 7.43, '‼️': 7.416666666666667, '👻': 7.416666666666667, '💕': 7.409090909090909, '🎄': 7.4, '💅': 7.4, '🎵': 7.357142857142857, '❤️': 7.338461538461538, '😎': 7.333333333333333, '😏': 7.333333333333333, '🤭': 7.333333333333333, '😘': 7.3, '👉': 7.285714285714286, '😡': 7.285714285714286, '🙄': 7.25, '👅': 7.2, '👁': 7.166666666666667, '🤝': 7.125, '🎶': 7.0, '👈': 7.0, '😙': 7.0, '🥺': 7.0, '😍': 6.869565217391305, '💝': 6.857142857142857, '😔': 6.85, '™': 6.841269841269841, '❌': 6.8, '🤪': 6.8, '™️': 6.769230769230769, '👍': 6.666666666666667, '😂': 6.666666666666667, '✨': 6.642857142857143, '💀': 6.529411764705882, '🤢': 6.5, '😀': 6.4, '💔': 6.25, '✅': 6.222222222222222, '😊': 6.166666666666667, '😝': 6.166666666666667, '🤔': 6.0588235294117645, '🇺🇸': 6.0, '😛': 6.0, '😫': 6.0, '😬': 6.0, '😪': 5.714285714285714, '💦': 5.666666666666667, '😴': 5.333333333333333, '👎': 5.25, '😐': 4.8, '🤐': -1}\n"
     ]
    }
   ],
   "source": [
    "#emojis sorted by avg score\n",
    "avgs_list = {}\n",
    "for obj in object_list:\n",
    "    #factoring out emojis used very little\n",
    "    if len(obj.related_movies) >= 5:\n",
    "        avgs_list[obj.value] = obj.calc_avg_score()\n",
    "        \n",
    "value_sorted = dict(sorted(avgs_list.items(), key=lambda item: item[1], reverse=True))\n",
    "print(value_sorted)\n",
    "        "
   ],
   "metadata": {
    "collapsed": false,
    "ExecuteTime": {
     "end_time": "2024-04-25T16:08:41.150101800Z",
     "start_time": "2024-04-25T16:08:41.134650200Z"
    }
   },
   "id": "dcc2383c3da01247",
   "execution_count": 7
  },
  {
   "cell_type": "markdown",
   "source": [
    "I feel like what this data really says is that if a movie has an emoji in its review, then it's probably at least decent. What shocks me the most is the thumbs down emoji got a score of 5.25. Who in their right mind would use thumbs down in any review higher than a 3/10? I was really expecting some avg scores of ~2/10 but I suppose law of averages strikes again. The -1 score shown above just means that all instances of the emoji have no score attached. \n",
    "\n",
    "Something I've also been thinking about for some reason is what emojis are used for tarantino movies."
   ],
   "metadata": {
    "collapsed": false
   },
   "id": "6daa6006c73a8421"
  },
  {
   "cell_type": "code",
   "outputs": [],
   "source": [
    "#emojis used for a certain movie\n",
    "def emojis_in_movie(title):\n",
    "    related_emojis = []\n",
    "    for obj in object_list:\n",
    "        if title in obj.related_movies:\n",
    "            related_emojis.append(obj.value)\n",
    "    return related_emojis"
   ],
   "metadata": {
    "collapsed": false,
    "ExecuteTime": {
     "end_time": "2024-04-25T16:08:41.150101800Z",
     "start_time": "2024-04-25T16:08:41.138816200Z"
    }
   },
   "id": "f668290846c2d490",
   "execution_count": 8
  },
  {
   "cell_type": "code",
   "outputs": [
    {
     "name": "stdout",
     "output_type": "stream",
     "text": [
      "[]\n",
      "['😳']\n",
      "[]\n",
      "[]\n",
      "['🤠']\n",
      "[]\n",
      "[]\n",
      "['🎵', '😔']\n",
      "[]\n",
      "['🤠']\n"
     ]
    }
   ],
   "source": [
    "#see all2.csv for correct format of movie titles\n",
    "print(emojis_in_movie(\"pulp-fiction\"))\n",
    "print(emojis_in_movie(\"reservoir-dogs\"))\n",
    "print(emojis_in_movie(\"kill-bill-vol-1\"))\n",
    "print(emojis_in_movie(\"kill-bill-vol-2\"))\n",
    "print(emojis_in_movie(\"django-unchained\"))\n",
    "print(emojis_in_movie(\"inglorious-basterds\"))\n",
    "print(emojis_in_movie(\"jackie-brown\"))\n",
    "print(emojis_in_movie(\"once-upon-a-time-in-hollywood\"))\n",
    "print(emojis_in_movie(\"death-proof\"))\n",
    "print(emojis_in_movie(\"the-hateful-eight\"))"
   ],
   "metadata": {
    "collapsed": false,
    "ExecuteTime": {
     "end_time": "2024-04-25T16:08:41.159112500Z",
     "start_time": "2024-04-25T16:08:41.143017400Z"
    }
   },
   "id": "c0ed4e54ca756bf3",
   "execution_count": 9
  },
  {
   "cell_type": "markdown",
   "source": [
    "Ok, so no feet emojis like I was expecting. In fact, a disappointing lack of emojis in general. Out of everyone who's seen pulp fiction, no one wanted to put an emoji in their review???\n",
    "At the very least, this data sort of tells you which of these movies are westerns."
   ],
   "metadata": {
    "collapsed": false
   },
   "id": "f289083c154764bb"
  },
  {
   "cell_type": "code",
   "outputs": [],
   "source": [
    "#vector graph\n",
    "#i didn't actually do one because I had errors associated with labels being emojis"
   ],
   "metadata": {
    "collapsed": false,
    "ExecuteTime": {
     "end_time": "2024-04-25T16:08:41.160112100Z",
     "start_time": "2024-04-25T16:08:41.146834700Z"
    }
   },
   "id": "8cbc679bf94b498f",
   "execution_count": 10
  },
  {
   "cell_type": "markdown",
   "source": [
    "I'm gonna see what nltk.most_similar can tell me. First I gotta tokenize everything and get the model trained."
   ],
   "metadata": {
    "collapsed": false
   },
   "id": "4ff591d58f07ea56"
  },
  {
   "cell_type": "code",
   "outputs": [
    {
     "name": "stdout",
     "output_type": "stream",
     "text": [
      "[['i', 'highly', 'recommend', 'everyone', 'get', 'drunk', 'with', 'friends', 'and', 'watch', 'this'], ['my', 'introduction', 'to', 'john', 'cena', \"'s\", 'absolutely', 'delicious', 'looking', 'biceps'], ['not', 'fast', 'enough', '!'], ['on', 'march', '24th', '2023', 'kanye', 'west', 'said', 'he', 'is', 'no', 'longer', 'anti', 'semitic', 'because', 'of', 'this', 'movie', 'and', 'jonah', 'hill'], ['why', 'are', 'old', 'people', 'having', 'fun', 'they', \"'re\", 'literally', 'gon', 'na', 'die', 'tomorrow', '😭']]\n",
      "49074\n"
     ]
    }
   ],
   "source": [
    "#most similar word2Vec model\n",
    "import nltk\n",
    "from nltk.tokenize import word_tokenize\n",
    "\n",
    "sentences = []\n",
    "for review in reviews:\n",
    "    lower2 = review[5:].lower()\n",
    "    tokens2 = word_tokenize(lower2)\n",
    "    sentences.append(tokens2)\n",
    "print(sentences[0:5])\n",
    "\n",
    "from gensim.models import Word2Vec\n",
    "print(len(sentences))\n",
    "model = Word2Vec(sentences = sentences,\n",
    "                 window = 5, \n",
    "                 min_count =1,\n",
    "                 vector_size = 5)"
   ],
   "metadata": {
    "collapsed": false,
    "ExecuteTime": {
     "end_time": "2024-05-01T19:26:35.437012400Z",
     "start_time": "2024-05-01T19:26:20.927437500Z"
    }
   },
   "id": "c2f351caca97ec17",
   "execution_count": 4
  },
  {
   "cell_type": "code",
   "outputs": [
    {
     "name": "stdout",
     "output_type": "stream",
     "text": [
      "[('dolt', 0.9995066523551941), ('suffocates', 0.999189019203186), ('ohhhh', 0.998142421245575), ('rouge', 0.9977474212646484), ('paterson', 0.9975634217262268), ('43', 0.9974400997161865), ('landis', 0.9960612654685974), ('poppy', 0.9954481720924377), ('mirjam', 0.9954425096511841), ('89/100', 0.9950217604637146), ('psychoactive', 0.9949510097503662), ('relationships-', 0.9948994517326355), ('marking', 0.9944379925727844), ('metadoc', 0.9940840601921082), ('bbc', 0.9940271973609924), ('fondly', 0.9937567710876465), ('wanti', 0.9936219453811646), ('clings', 0.9932264089584351), ('firefighting', 0.9931585192680359), ('suppress', 0.9928309321403503)]\n"
     ]
    }
   ],
   "source": [
    "print(model.wv.most_similar(\"🤠\", topn= 20))"
   ],
   "metadata": {
    "collapsed": false,
    "ExecuteTime": {
     "end_time": "2024-04-25T16:42:02.450861200Z",
     "start_time": "2024-04-25T16:42:02.445198900Z"
    }
   },
   "id": "34c058cba98359c5",
   "execution_count": 26
  },
  {
   "cell_type": "markdown",
   "source": [
    "hmm.. not seeing the correlation here. A couple of these words only appear once in the corpus. Maybe this function doesn't handle emojis well."
   ],
   "metadata": {
    "collapsed": false
   },
   "id": "4c36661107c9bb8f"
  },
  {
   "cell_type": "markdown",
   "source": [
    "Lastly, let's just throw in some other ntlk function calls."
   ],
   "metadata": {
    "collapsed": false
   },
   "id": "de644d38aaf1e521"
  },
  {
   "cell_type": "code",
   "outputs": [],
   "source": [
    "words = []\n",
    "for sentence in sentences:\n",
    "    for item in sentence:\n",
    "        words.append(item)\n",
    "corpus = nltk.Text(words)"
   ],
   "metadata": {
    "collapsed": false,
    "ExecuteTime": {
     "end_time": "2024-04-25T16:52:13.987192100Z",
     "start_time": "2024-04-25T16:52:13.801010300Z"
    }
   },
   "id": "3ba6732871237f96",
   "execution_count": 31
  },
  {
   "cell_type": "code",
   "outputs": [
    {
     "name": "stdout",
     "output_type": "stream",
     "text": [
      "Displaying 15 of 15 matches:\n",
      "t for me , dear god i wish steve zahn was my dad 🤠 you ca n't , and i ca n't stress this enough , f\n",
      " cinematic history methinks can i get a yeeeehaw 🤠 martin scorsese literally wishes he made a plot \n",
      " ! ! ! cowboy steven yeun please be my boyfriend 🤠 how can something be so beautiful yet so painful\n",
      "o-yeon this was made for the girls and gays only 🤠 shantay , you stay park chan-wook more like park\n",
      "st greek director this could never be made today 🤠 but only because laugh-out-loud studio comedies \n",
      "asleep three times but that 's on me , not him . 🤠 cat i am catsitting for jumped on bed during the\n",
      "ring the sex scene and scared the shit out of me 🤠 this happened to me in 2019 feels like aidan qui\n",
      "an stevens 😔 👌/|| _ _/¯ ¯ _ king of gay cinema 👋 🤠 || _ _/¯ ¯ _ hoping a king princess song never m\n",
      "nd the underrated strength required to endure it 🤠 mesmerising sir ari aster sure does know how to \n",
      "ve her ! ! ! the ‘ d ' is silent hillbilly ! ! ! 🤠 phenomenal cinema actually still as painfully re\n",
      " ! ! makes me feel like a right edgy™️ film stan 🤠 i think adrien merigeau is an absolute genius th\n",
      "pace '' together is something very amusing to me 🤠 the spike lee double dolly shot is something ver\n",
      "anderson made a western and boy am i here for it 🤠 toy story humour is the best humour ! yes zenday\n",
      "ere some bad times at the minnie 's haberdashery 🤠 some impressive skeleton dance moves on display \n",
      "aring a cowboy hat that 's it that 's the review 🤠 just a bit of fun really nothing but respect for\n",
      "No matches\n"
     ]
    }
   ],
   "source": [
    "corpus.concordance(\"🤠\", 100, 25)\n",
    "corpus.similar(\"🤠\")"
   ],
   "metadata": {
    "collapsed": false,
    "ExecuteTime": {
     "end_time": "2024-04-25T16:54:34.592927800Z",
     "start_time": "2024-04-25T16:54:34.581041500Z"
    }
   },
   "id": "ae2381484d6a645b",
   "execution_count": 35
  },
  {
   "cell_type": "code",
   "outputs": [
    {
     "name": "stdout",
     "output_type": "stream",
     "text": [
      "Displaying 25 of 52 matches:\n",
      "aving fun they 're literally gon na die tomorrow 😭 kids movie where dolls fight for their lives aft\n",
      "rsten word for word😭😭😭 paulie stop kissing gibby 😭 there is so much that i loved about this holy sh\n",
      "he director went from this to the last of us hbo 😭 if you use snapchat in 2023 you deserve to die t\n",
      "idea in human history and they just went with it 😭 we need fewer women in stem ! ! ! going to a par\n",
      "tial crisis this is currently putting me through 😭 me in the sky with diamonds they really made thi\n",
      " now how am i supposed to go to sleep after this 😭 i literally do n't know what to make of this but\n",
      "t ca n't be that bad '' well actually yes it can 😭 this was so good except for the guy next to us l\n",
      "amy dunne in gone girl ? ? ? ? ? not that ending 😭 i 'm never gon na think about jeffrey dahmer the\n",
      " apologizing for this painful shakespearean shit 😭 nwr really had an impact on ryan gosling huh i '\n",
      "n depends diapers every single night out of fear 😭 `` this is so metaphorical '' oh holy fuck . go \n",
      "ually was trent and atticus ? i was just kidding 😭 afi 2020 : film # 5 `` today is not a good day '\n",
      "'m not hiding it anymore ! ma is it that serious 😭 drippy birkin bag full of monkey bits rachel mca\n",
      "? because i do n't know how much more i can take 😭 ( btw my full review of the film is in this vide\n",
      "ose `` you know i do n't like blondes '' help me 😭 annie clark could literally do or create anythin\n",
      "iterion collection well damn ! i wish i had mail 😭 the interesting thing about snyder is that he al\n",
      "euse turtleneck sweater knitting pattern where i 😭 would 😭 have 😭 followed 😭 you 😭 my 😭 brother 😭 m\n",
      "tleneck sweater knitting pattern where i 😭 would 😭 have 😭 followed 😭 you 😭 my 😭 brother 😭 my 😭 capt\n",
      " sweater knitting pattern where i 😭 would 😭 have 😭 followed 😭 you 😭 my 😭 brother 😭 my 😭 captain 😭 m\n",
      "itting pattern where i 😭 would 😭 have 😭 followed 😭 you 😭 my 😭 brother 😭 my 😭 captain 😭 my 😭 king 😭 \n",
      " pattern where i 😭 would 😭 have 😭 followed 😭 you 😭 my 😭 brother 😭 my 😭 captain 😭 my 😭 king 😭 perfec\n",
      "ern where i 😭 would 😭 have 😭 followed 😭 you 😭 my 😭 brother 😭 my 😭 captain 😭 my 😭 king 😭 perfect mov\n",
      "i 😭 would 😭 have 😭 followed 😭 you 😭 my 😭 brother 😭 my 😭 captain 😭 my 😭 king 😭 perfect movie especia\n",
      "ould 😭 have 😭 followed 😭 you 😭 my 😭 brother 😭 my 😭 captain 😭 my 😭 king 😭 perfect movie especially b\n",
      "e 😭 followed 😭 you 😭 my 😭 brother 😭 my 😭 captain 😭 my 😭 king 😭 perfect movie especially because all\n",
      "ollowed 😭 you 😭 my 😭 brother 😭 my 😭 captain 😭 my 😭 king 😭 perfect movie especially because all movi\n",
      "No matches\n"
     ]
    }
   ],
   "source": [
    "corpus.concordance(\"😭\", 100, 25)\n",
    "corpus.similar(\"😭\")"
   ],
   "metadata": {
    "collapsed": false,
    "ExecuteTime": {
     "end_time": "2024-04-25T16:55:22.503233600Z",
     "start_time": "2024-04-25T16:55:22.498264100Z"
    }
   },
   "id": "42882dc067156259",
   "execution_count": 36
  }
 ],
 "metadata": {
  "kernelspec": {
   "display_name": "Python 3",
   "language": "python",
   "name": "python3"
  },
  "language_info": {
   "codemirror_mode": {
    "name": "ipython",
    "version": 2
   },
   "file_extension": ".py",
   "mimetype": "text/x-python",
   "name": "python",
   "nbconvert_exporter": "python",
   "pygments_lexer": "ipython2",
   "version": "2.7.6"
  }
 },
 "nbformat": 4,
 "nbformat_minor": 5
}
